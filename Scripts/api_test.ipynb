{
 "cells": [
  {
   "cell_type": "markdown",
   "metadata": {},
   "source": [
    "# Habitica API Test Page\n",
    "This page is to test queries against the Habitica API. I am primarily using it to inspect the structure of JSON data objects to help with mapping to C# classes.\n",
    "\n",
    "To avoid authentication details being exposed to the world in this file, it requires the creation of a `.auth.cfg` (any name really, but that is the default) with the following content:\n",
    "\n",
    "    [Habitica]\n",
    "    url = https://habitica.com\n",
    "    login = ;your user ID\n",
    "    password = ;your API key\n",
    "\n",
    "Note that the section name can be anything, and you can use multiple sections for multiple accounts."
   ]
  },
  {
   "cell_type": "markdown",
   "metadata": {},
   "source": [
    "# Setup"
   ]
  },
  {
   "cell_type": "code",
   "execution_count": null,
   "metadata": {
    "collapsed": false
   },
   "outputs": [],
   "source": [
    "import os\n",
    "import requests\n",
    "from configparser import ConfigParser"
   ]
  },
  {
   "cell_type": "code",
   "execution_count": null,
   "metadata": {
    "collapsed": true
   },
   "outputs": [],
   "source": [
    "class ConfigError(Exception):\n",
    "    def __init__(self, value):\n",
    "        self.value = value\n",
    "        \n",
    "    def __str__(self):\n",
    "        return repr(self.value)"
   ]
  },
  {
   "cell_type": "code",
   "execution_count": null,
   "metadata": {
    "collapsed": false
   },
   "outputs": [],
   "source": [
    "def load_auth(config_file='~/.auth.cfg', section='Habitica'):\n",
    "    headers = {}\n",
    "    config_file = os.path.expanduser(config_file)\n",
    "    \n",
    "    with open(config_file) as cf:\n",
    "        config = ConfigParser()\n",
    "        config.read_file(cf)\n",
    "\n",
    "        try:\n",
    "            headers = {'url': config.get(section, 'url'),\n",
    "                  'x-api-user': config.get(section, 'login'),\n",
    "                  'x-api-key': config.get(section, 'password')}\n",
    "        except configparser.NoSectionError:\n",
    "            raise ConfigError(\"No '%s' section in '%s'\" % section, configfile)\n",
    "        except configparser.NoOptionError as e:\n",
    "            raise ConfigError(\"Missing option in auth file '%s': %s\" % (configfile, e.message))\n",
    "\n",
    "    return headers"
   ]
  },
  {
   "cell_type": "code",
   "execution_count": null,
   "metadata": {
    "collapsed": false
   },
   "outputs": [],
   "source": [
    "headers = load_auth(section='Habitica_testuser')\n",
    "#headers = load_auth(section='Habitica_deecee')\n",
    "headers['url'] += '/api/v3/'"
   ]
  },
  {
   "cell_type": "markdown",
   "metadata": {},
   "source": [
    "# HTTP Request Helpers"
   ]
  },
  {
   "cell_type": "code",
   "execution_count": null,
   "metadata": {
    "collapsed": false
   },
   "outputs": [],
   "source": [
    "def get(command):\n",
    "    r = requests.get(headers['url']+command, headers=headers)\n",
    "    return r.json()"
   ]
  },
  {
   "cell_type": "markdown",
   "metadata": {},
   "source": [
    "# Status"
   ]
  },
  {
   "cell_type": "code",
   "execution_count": null,
   "metadata": {
    "collapsed": false
   },
   "outputs": [],
   "source": [
    "get('status')"
   ]
  },
  {
   "cell_type": "markdown",
   "metadata": {},
   "source": [
    "# User"
   ]
  },
  {
   "cell_type": "code",
   "execution_count": null,
   "metadata": {
    "collapsed": true
   },
   "outputs": [],
   "source": [
    "user = get('user')['data']"
   ]
  },
  {
   "cell_type": "code",
   "execution_count": null,
   "metadata": {
    "collapsed": false,
    "scrolled": true
   },
   "outputs": [],
   "source": [
    "user.keys()"
   ]
  },
  {
   "cell_type": "code",
   "execution_count": null,
   "metadata": {
    "collapsed": false
   },
   "outputs": [],
   "source": [
    "user['history']"
   ]
  },
  {
   "cell_type": "code",
   "execution_count": null,
   "metadata": {
    "collapsed": false
   },
   "outputs": [],
   "source": [
    "user['tags']"
   ]
  },
  {
   "cell_type": "markdown",
   "metadata": {},
   "source": [
    "# Member"
   ]
  },
  {
   "cell_type": "code",
   "execution_count": null,
   "metadata": {
    "collapsed": false
   },
   "outputs": [],
   "source": [
    "member = get('members/'+headers['x-api-user'])['data']"
   ]
  },
  {
   "cell_type": "code",
   "execution_count": null,
   "metadata": {
    "collapsed": false
   },
   "outputs": [],
   "source": [
    "member.keys()"
   ]
  },
  {
   "cell_type": "code",
   "execution_count": null,
   "metadata": {
    "collapsed": false,
    "scrolled": true
   },
   "outputs": [],
   "source": [
    "member"
   ]
  },
  {
   "cell_type": "markdown",
   "metadata": {},
   "source": [
    "# Task\n",
    "\n",
    "### Find the common set of keys to all task types"
   ]
  },
  {
   "cell_type": "code",
   "execution_count": null,
   "metadata": {
    "collapsed": true
   },
   "outputs": [],
   "source": [
    "all_tasks = get('tasks/user')['data']"
   ]
  },
  {
   "cell_type": "code",
   "execution_count": null,
   "metadata": {
    "collapsed": false
   },
   "outputs": [],
   "source": [
    "habits = [task for task in all_tasks if task['type'] == 'habit']\n",
    "dailies = [task for task in all_tasks if task['type'] == 'daily']\n",
    "todos = [task for task in all_tasks if task['type'] == 'todo']\n",
    "rewards = [task for task in all_tasks if task['type'] == 'reward']"
   ]
  },
  {
   "cell_type": "code",
   "execution_count": null,
   "metadata": {
    "collapsed": false
   },
   "outputs": [],
   "source": [
    "with_alias = [t['type'] for t in all_tasks if 'alias' in t]\n",
    "with_alias"
   ]
  },
  {
   "cell_type": "code",
   "execution_count": null,
   "metadata": {
    "collapsed": false
   },
   "outputs": [],
   "source": [
    "tasks = [\n",
    "    set(habits[0]),\n",
    "    set(rewards[0]), \n",
    "    set(todos[0]), \n",
    "    set(dailies[0])]\n",
    "\n",
    "base_task = tasks[0]\n",
    "for t in tasks[1:]:\n",
    "    base_task = base_task.intersection(t)\n",
    "    \n",
    "base_task"
   ]
  },
  {
   "cell_type": "code",
   "execution_count": null,
   "metadata": {
    "collapsed": false
   },
   "outputs": [],
   "source": [
    "# all keys in habit that are not in base_task\n",
    "tasks[0].difference(base_task)"
   ]
  },
  {
   "cell_type": "code",
   "execution_count": null,
   "metadata": {
    "collapsed": false
   },
   "outputs": [],
   "source": [
    "# all keys in reward that are not in base_task\n",
    "tasks[1].difference(base_task)"
   ]
  },
  {
   "cell_type": "code",
   "execution_count": null,
   "metadata": {
    "collapsed": false
   },
   "outputs": [],
   "source": [
    "# all keys in todo that are not in base_task\n",
    "tasks[2].difference(base_task)"
   ]
  },
  {
   "cell_type": "code",
   "execution_count": null,
   "metadata": {
    "collapsed": false
   },
   "outputs": [],
   "source": [
    "# all keys in daily that are not in base_task\n",
    "tasks[3].difference(base_task)"
   ]
  },
  {
   "cell_type": "markdown",
   "metadata": {},
   "source": [
    "### Examine components of a task in detail"
   ]
  },
  {
   "cell_type": "code",
   "execution_count": null,
   "metadata": {
    "collapsed": false,
    "scrolled": true
   },
   "outputs": [],
   "source": [
    "dailies[1]"
   ]
  },
  {
   "cell_type": "markdown",
   "metadata": {},
   "source": [
    "# Groups"
   ]
  },
  {
   "cell_type": "code",
   "execution_count": null,
   "metadata": {
    "collapsed": false
   },
   "outputs": [],
   "source": [
    "groupId = 'habitrpg'\n",
    "g = get('groups/' + groupId)\n",
    "g"
   ]
  }
 ],
 "metadata": {
  "kernelspec": {
   "display_name": "Python 3",
   "language": "python",
   "name": "python3"
  },
  "language_info": {
   "codemirror_mode": {
    "name": "ipython",
    "version": 3
   },
   "file_extension": ".py",
   "mimetype": "text/x-python",
   "name": "python",
   "nbconvert_exporter": "python",
   "pygments_lexer": "ipython3",
   "version": "3.5.2"
  }
 },
 "nbformat": 4,
 "nbformat_minor": 0
}
